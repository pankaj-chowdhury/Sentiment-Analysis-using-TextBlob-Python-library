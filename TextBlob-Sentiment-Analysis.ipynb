{
 "cells": [
  {
   "cell_type": "code",
   "execution_count": 1,
   "metadata": {},
   "outputs": [
    {
     "name": "stdout",
     "output_type": "stream",
     "text": [
      "Text:  I love Python! It's such a fantastic language.\n",
      "Sentiment Label:  Positive\n",
      "Sentiment Polarity:  0.3416666666666666\n",
      "Sentiment Subjectivity:  0.6666666666666666\n"
     ]
    }
   ],
   "source": [
    "from textblob import TextBlob\n",
    "\n",
    "def analyze_sentiment(text):\n",
    "    # Create a TextBlob object\n",
    "    blob = TextBlob(text)\n",
    "\n",
    "    # Get the sentiment polarity (-1 to 1) and subjectivity (0 to 1)\n",
    "    sentiment_polarity = blob.sentiment.polarity\n",
    "    sentiment_subjectivity = blob.sentiment.subjectivity\n",
    "\n",
    "    # Determine the sentiment label\n",
    "    if sentiment_polarity > 0:\n",
    "        sentiment_label = \"Positive\"\n",
    "    elif sentiment_polarity < 0:\n",
    "        sentiment_label = \"Negative\"\n",
    "    else:\n",
    "        sentiment_label = \"Neutral\"\n",
    "\n",
    "    return sentiment_label, sentiment_polarity, sentiment_subjectivity\n",
    "\n",
    "# Example text for sentiment analysis\n",
    "example_text = \"I love Python! It's such a fantastic language.\"\n",
    "\n",
    "# Perform sentiment analysis\n",
    "sentiment_label, sentiment_polarity, sentiment_subjectivity = analyze_sentiment(example_text)\n",
    "\n",
    "# Output the results\n",
    "print(\"Text: \", example_text)\n",
    "print(\"Sentiment Label: \", sentiment_label)\n",
    "print(\"Sentiment Polarity: \", sentiment_polarity)\n",
    "print(\"Sentiment Subjectivity: \", sentiment_subjectivity)\n"
   ]
  }
 ],
 "metadata": {
  "kernelspec": {
   "display_name": "Python 3",
   "language": "python",
   "name": "python3"
  },
  "language_info": {
   "codemirror_mode": {
    "name": "ipython",
    "version": 3
   },
   "file_extension": ".py",
   "mimetype": "text/x-python",
   "name": "python",
   "nbconvert_exporter": "python",
   "pygments_lexer": "ipython3",
   "version": "3.10.0"
  },
  "orig_nbformat": 4
 },
 "nbformat": 4,
 "nbformat_minor": 2
}
